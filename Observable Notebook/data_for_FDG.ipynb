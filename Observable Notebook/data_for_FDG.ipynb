{
 "cells": [
  {
   "cell_type": "code",
   "execution_count": null,
   "metadata": {},
   "outputs": [],
   "source": [
    "import csv\n",
    "import json\n",
    "import pandas as pd"
   ]
  },
  {
   "cell_type": "markdown",
   "metadata": {},
   "source": [
    "### Getting MVM.JSON"
   ]
  },
  {
   "cell_type": "code",
   "execution_count": null,
   "metadata": {
    "scrolled": false
   },
   "outputs": [],
   "source": [
    "roots = []\n",
    "leaves = []\n",
    "links = []\n",
    "with open('mvm.csv') as csv_file:\n",
    "    csv_reader = csv.reader(csv_file, delimiter=',')\n",
    "    line_count = 0\n",
    "    leaves_count = 0\n",
    "    for row in csv_reader:\n",
    "        if line_count != 0 and row[0] not in roots:\n",
    "            roots.append(row[0])\n",
    "        if line_count != 0 and int(row[2]) > 0 and row[0] != row[1]:\n",
    "            leaves.append(row[0]+' to '+row[1])\n",
    "            leaves_count += 1\n",
    "            links.append({'source': row[0], 'target': row[0]+' to '+row[1], 'value': int(row[2])})\n",
    "        line_count += 1\n",
    "\n",
    "nodes = []\n",
    "for item in roots:\n",
    "    nodes.append({'id': item, 'group': 1})\n",
    "for item in leaves:\n",
    "    nodes.append({'id': item, 'group': 2})\n",
    "    \n",
    "dict = {'nodes':nodes, 'links':links}\n",
    "data = json.dumps(dict)\n",
    "\n",
    "with open('mvm2.json', 'w') as f:\n",
    "    f.write(data)"
   ]
  },
  {
   "cell_type": "markdown",
   "metadata": {},
   "source": [
    "### Getting MVD.CSV"
   ]
  },
  {
   "cell_type": "code",
   "execution_count": null,
   "metadata": {},
   "outputs": [],
   "source": [
    "df = pd.read_csv('mvd_prior.csv')\n",
    "\n",
    "for i, row in df.iterrows():\n",
    "    if row['Motif'] == '0':\n",
    "        row['Motif'] = 'No Motif'\n",
    "    if row['Decorative_Technique'] == '0':\n",
    "        row['Decorative_Technique'] = 'No Decorative Technique'\n",
    "\n",
    "motifs = df['Motif'].unique()\n",
    "DTs = df['Decorative_Technique'].unique()\n",
    "\n",
    "dfObj = pd.DataFrame(columns=['motif', 'dec_tec', 'weight'])\n",
    "\n",
    "for i in motifs:\n",
    "    for j in DTs:\n",
    "        dfObj = dfObj.append({'motif': i, 'dec_tec': j, 'weight': df[(df['Motif'] == i ) & (df['Decorative_Technique'] == j)].label.count()}, ignore_index=True)\n",
    "\n",
    "dfObj"
   ]
  },
  {
   "cell_type": "code",
   "execution_count": null,
   "metadata": {},
   "outputs": [],
   "source": [
    "dfObj.to_csv(\"mvd.csv\", encoding='utf-8', index=False)"
   ]
  },
  {
   "cell_type": "markdown",
   "metadata": {},
   "source": [
    "### Getting MVD.JSON"
   ]
  },
  {
   "cell_type": "code",
   "execution_count": null,
   "metadata": {},
   "outputs": [],
   "source": [
    "roots = []\n",
    "leaves = []\n",
    "links = []\n",
    "with open('mvd.csv') as csv_file:\n",
    "    csv_reader = csv.reader(csv_file, delimiter=',')\n",
    "    line_count = 0\n",
    "    leaves_count = 0\n",
    "    for row in csv_reader:\n",
    "        if line_count != 0 and row[0] not in roots:\n",
    "            roots.append(row[0])\n",
    "        if line_count != 0 and int(row[2]) > 0 and row[0] != row[1]:\n",
    "            leaves.append(row[0]+' to '+row[1])\n",
    "            leaves_count += 1\n",
    "            links.append({'source': row[0], 'target': row[0]+' to '+row[1], 'value': int(row[2])})\n",
    "        line_count += 1\n",
    "\n",
    "nodes = []\n",
    "for item in roots:\n",
    "    nodes.append({'id': item, 'group': 1})\n",
    "for item in leaves:\n",
    "    nodes.append({'id': item, 'group': 2})\n",
    "    \n",
    "dict = {'nodes':nodes, 'links':links}\n",
    "data = json.dumps(dict)\n",
    "\n",
    "with open('mvd.json', 'w') as f:\n",
    "    f.write(data)"
   ]
  },
  {
   "cell_type": "markdown",
   "metadata": {},
   "source": [
    "### Getting DVD.CSV"
   ]
  },
  {
   "cell_type": "code",
   "execution_count": 59,
   "metadata": {},
   "outputs": [
    {
     "data": {
      "text/html": [
       "<div>\n",
       "<style scoped>\n",
       "    .dataframe tbody tr th:only-of-type {\n",
       "        vertical-align: middle;\n",
       "    }\n",
       "\n",
       "    .dataframe tbody tr th {\n",
       "        vertical-align: top;\n",
       "    }\n",
       "\n",
       "    .dataframe thead th {\n",
       "        text-align: right;\n",
       "    }\n",
       "</style>\n",
       "<table border=\"1\" class=\"dataframe\">\n",
       "  <thead>\n",
       "    <tr style=\"text-align: right;\">\n",
       "      <th></th>\n",
       "      <th>dec_tec1</th>\n",
       "      <th>dec_tec2</th>\n",
       "      <th>weight</th>\n",
       "    </tr>\n",
       "  </thead>\n",
       "  <tbody>\n",
       "    <tr>\n",
       "      <th>0</th>\n",
       "      <td>No Decorative Technique</td>\n",
       "      <td>Applique</td>\n",
       "      <td>88</td>\n",
       "    </tr>\n",
       "    <tr>\n",
       "      <th>1</th>\n",
       "      <td>No Decorative Technique</td>\n",
       "      <td>Beveled</td>\n",
       "      <td>40</td>\n",
       "    </tr>\n",
       "    <tr>\n",
       "      <th>2</th>\n",
       "      <td>No Decorative Technique</td>\n",
       "      <td>Burnished</td>\n",
       "      <td>9</td>\n",
       "    </tr>\n",
       "    <tr>\n",
       "      <th>3</th>\n",
       "      <td>No Decorative Technique</td>\n",
       "      <td>Cavetto</td>\n",
       "      <td>308</td>\n",
       "    </tr>\n",
       "    <tr>\n",
       "      <th>4</th>\n",
       "      <td>No Decorative Technique</td>\n",
       "      <td>Fenestrated</td>\n",
       "      <td>70</td>\n",
       "    </tr>\n",
       "    <tr>\n",
       "      <th>...</th>\n",
       "      <td>...</td>\n",
       "      <td>...</td>\n",
       "      <td>...</td>\n",
       "    </tr>\n",
       "    <tr>\n",
       "      <th>180</th>\n",
       "      <td>Stamped</td>\n",
       "      <td>Painted</td>\n",
       "      <td>1</td>\n",
       "    </tr>\n",
       "    <tr>\n",
       "      <th>181</th>\n",
       "      <td>Stamped</td>\n",
       "      <td>Relief</td>\n",
       "      <td>5</td>\n",
       "    </tr>\n",
       "    <tr>\n",
       "      <th>182</th>\n",
       "      <td>Stamped</td>\n",
       "      <td>Roulette</td>\n",
       "      <td>1</td>\n",
       "    </tr>\n",
       "    <tr>\n",
       "      <th>183</th>\n",
       "      <td>Stamped</td>\n",
       "      <td>Stippled</td>\n",
       "      <td>1</td>\n",
       "    </tr>\n",
       "    <tr>\n",
       "      <th>184</th>\n",
       "      <td>Stippled</td>\n",
       "      <td>Stamped</td>\n",
       "      <td>2</td>\n",
       "    </tr>\n",
       "  </tbody>\n",
       "</table>\n",
       "<p>185 rows × 3 columns</p>\n",
       "</div>"
      ],
      "text/plain": [
       "                    dec_tec1     dec_tec2 weight\n",
       "0    No Decorative Technique     Applique     88\n",
       "1    No Decorative Technique      Beveled     40\n",
       "2    No Decorative Technique    Burnished      9\n",
       "3    No Decorative Technique      Cavetto    308\n",
       "4    No Decorative Technique  Fenestrated     70\n",
       "..                       ...          ...    ...\n",
       "180                  Stamped      Painted      1\n",
       "181                  Stamped       Relief      5\n",
       "182                  Stamped     Roulette      1\n",
       "183                  Stamped     Stippled      1\n",
       "184                 Stippled      Stamped      2\n",
       "\n",
       "[185 rows x 3 columns]"
      ]
     },
     "execution_count": 59,
     "metadata": {},
     "output_type": "execute_result"
    }
   ],
   "source": [
    "df = pd.read_csv('all.csv')\n",
    "df = df[['label', 'Decorative_Technique']]\n",
    "df2 = pd.DataFrame(columns=['dec_tec1', 'dec_tec2', 'label'])\n",
    "\n",
    "for i, row in df.iterrows():\n",
    "    if row['Decorative_Technique'] != '0':\n",
    "        lst = json.loads(row['Decorative_Technique'])\n",
    "        if len(lst) == 1:\n",
    "            dict = {'dec_tec1' : 'No Decorative Technique', 'dec_tec2' : lst[0], 'label' : row['label']}\n",
    "            df2 = df2.append(dict, ignore_index=True)\n",
    "        else:\n",
    "            for i in range(0, len(lst)-1):\n",
    "                for j in range(i+1, len(lst)):\n",
    "                    dict = {'dec_tec1' : lst[i], 'dec_tec2' : lst[j], 'label' : row['label']}\n",
    "                    df2 = df2.append(dict, ignore_index=True)\n",
    "\n",
    "dfObj = pd.DataFrame(columns=['dec_tec1', 'dec_tec2', 'weight'])\n",
    "\n",
    "for i in DTs:\n",
    "    for j in DTs:\n",
    "        if i!=j and j!='No Decorative Technique':\n",
    "            count = df2[(df2['dec_tec1'] == i ) & (df2['dec_tec2'] == j)].label.count()\n",
    "            if count > 0:\n",
    "                dfObj = dfObj.append({'dec_tec1': i, 'dec_tec2': j, 'weight': count}, ignore_index=True)\n",
    "dfObj"
   ]
  },
  {
   "cell_type": "code",
   "execution_count": 60,
   "metadata": {},
   "outputs": [],
   "source": [
    "dfObj.to_csv(\"dvd.csv\", encoding='utf-8', index=False)"
   ]
  },
  {
   "cell_type": "markdown",
   "metadata": {},
   "source": [
    "### Getting DVD.JSON"
   ]
  },
  {
   "cell_type": "code",
   "execution_count": 61,
   "metadata": {},
   "outputs": [],
   "source": [
    "roots = []\n",
    "leaves = []\n",
    "links = []\n",
    "with open('dvd.csv') as csv_file:\n",
    "    csv_reader = csv.reader(csv_file, delimiter=',')\n",
    "    line_count = 0\n",
    "    leaves_count = 0\n",
    "    for row in csv_reader:\n",
    "        if line_count != 0 and row[0] not in roots:\n",
    "            roots.append(row[0])\n",
    "        if line_count != 0 and int(row[2]) > 0 and row[0] != row[1]:\n",
    "            leaves.append(row[0]+' to '+row[1])\n",
    "            leaves_count += 1\n",
    "            links.append({'source': row[0], 'target': row[0]+' to '+row[1], 'value': int(row[2])})\n",
    "        line_count += 1\n",
    "\n",
    "nodes = []\n",
    "for item in roots:\n",
    "    nodes.append({'id': item, 'group': 1})\n",
    "for item in leaves:\n",
    "    nodes.append({'id': item, 'group': 2})\n",
    "    \n",
    "dict = {'nodes':nodes, 'links':links}\n",
    "data = json.dumps(dict)\n",
    "\n",
    "with open('dvd.json', 'w') as f:\n",
    "    f.write(data)"
   ]
  }
 ],
 "metadata": {
  "kernelspec": {
   "display_name": "Python 3",
   "language": "python",
   "name": "python3"
  },
  "language_info": {
   "codemirror_mode": {
    "name": "ipython",
    "version": 3
   },
   "file_extension": ".py",
   "mimetype": "text/x-python",
   "name": "python",
   "nbconvert_exporter": "python",
   "pygments_lexer": "ipython3",
   "version": "3.7.3"
  }
 },
 "nbformat": 4,
 "nbformat_minor": 4
}
