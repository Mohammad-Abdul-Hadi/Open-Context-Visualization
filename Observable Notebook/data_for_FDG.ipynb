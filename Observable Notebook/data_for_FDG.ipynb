{
 "cells": [
  {
   "cell_type": "code",
   "execution_count": 19,
   "metadata": {},
   "outputs": [],
   "source": [
    "import csv\n",
    "import json"
   ]
  },
  {
   "cell_type": "code",
   "execution_count": 23,
   "metadata": {
    "scrolled": false
   },
   "outputs": [],
   "source": [
    "roots = []\n",
    "leaves = []\n",
    "links = []\n",
    "with open('mvm.csv') as csv_file:\n",
    "    csv_reader = csv.reader(csv_file, delimiter=',')\n",
    "    line_count = 0\n",
    "    leaves_count = 0\n",
    "    for row in csv_reader:\n",
    "        if line_count != 0 and row[0] not in roots:\n",
    "            roots.append(row[0])\n",
    "        if line_count != 0 and int(row[2]) > 0:\n",
    "            leaves.append(row[0]+' to '+row[1])\n",
    "            leaves_count += 1\n",
    "            links.append({'source': row[0], 'target': row[0]+' to '+row[1], 'value': 1})\n",
    "        line_count += 1\n",
    "\n",
    "nodes = []\n",
    "for item in roots:\n",
    "    nodes.append({'id': item, 'group': 1})\n",
    "for item in leaves:\n",
    "    nodes.append({'id': item, 'group': 2})\n",
    "    \n",
    "dict = {'nodes':nodes, 'links':links}\n",
    "data = json.dumps(dict)\n",
    "\n",
    "with open('mvm.json', 'w') as f:\n",
    "    f.write(data)"
   ]
  }
 ],
 "metadata": {
  "kernelspec": {
   "display_name": "Python 3",
   "language": "python",
   "name": "python3"
  },
  "language_info": {
   "codemirror_mode": {
    "name": "ipython",
    "version": 3
   },
   "file_extension": ".py",
   "mimetype": "text/x-python",
   "name": "python",
   "nbconvert_exporter": "python",
   "pygments_lexer": "ipython3",
   "version": "3.7.3"
  }
 },
 "nbformat": 4,
 "nbformat_minor": 4
}
